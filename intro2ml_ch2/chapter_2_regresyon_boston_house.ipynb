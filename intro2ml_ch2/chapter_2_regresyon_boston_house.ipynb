{
 "cells": [
  {
   "cell_type": "code",
   "execution_count": 1,
   "metadata": {},
   "outputs": [],
   "source": [
    "from sklearn.datasets import load_boston\n",
    "from mglearn.datasets import load_extended_boston\n",
    "from sklearn.model_selection import train_test_split\n",
    "from sklearn.neighbors import KNeighborsRegressor\n",
    "import numpy as np\n",
    "import matplotlib.pyplot as plt"
   ]
  },
  {
   "cell_type": "code",
   "execution_count": 2,
   "metadata": {},
   "outputs": [],
   "source": [
    "boston = load_boston()"
   ]
  },
  {
   "cell_type": "code",
   "execution_count": 3,
   "metadata": {},
   "outputs": [
    {
     "name": "stdout",
     "output_type": "stream",
     "text": [
      "dict_keys(['data', 'target', 'feature_names', 'DESCR', 'filename'])\n"
     ]
    }
   ],
   "source": [
    "print(boston.keys())"
   ]
  },
  {
   "cell_type": "code",
   "execution_count": 4,
   "metadata": {},
   "outputs": [
    {
     "name": "stdout",
     "output_type": "stream",
     "text": [
      "Data shape: (506, 13)\n"
     ]
    }
   ],
   "source": [
    "print(f\"Data shape: {boston.data.shape}\")"
   ]
  },
  {
   "cell_type": "code",
   "execution_count": 5,
   "metadata": {},
   "outputs": [
    {
     "name": "stdout",
     "output_type": "stream",
     "text": [
      "Boston data:\n",
      "[[6.3200e-03 1.8000e+01 2.3100e+00 ... 1.5300e+01 3.9690e+02 4.9800e+00]\n",
      " [2.7310e-02 0.0000e+00 7.0700e+00 ... 1.7800e+01 3.9690e+02 9.1400e+00]\n",
      " [2.7290e-02 0.0000e+00 7.0700e+00 ... 1.7800e+01 3.9283e+02 4.0300e+00]\n",
      " ...\n",
      " [6.0760e-02 0.0000e+00 1.1930e+01 ... 2.1000e+01 3.9690e+02 5.6400e+00]\n",
      " [1.0959e-01 0.0000e+00 1.1930e+01 ... 2.1000e+01 3.9345e+02 6.4800e+00]\n",
      " [4.7410e-02 0.0000e+00 1.1930e+01 ... 2.1000e+01 3.9690e+02 7.8800e+00]]\n"
     ]
    }
   ],
   "source": [
    "print(f\"Boston data:\\n{boston.data}\")"
   ]
  },
  {
   "cell_type": "code",
   "execution_count": 6,
   "metadata": {},
   "outputs": [
    {
     "name": "stdout",
     "output_type": "stream",
     "text": [
      "Boston target shape: (506,)\n"
     ]
    }
   ],
   "source": [
    "print(f\"Boston target shape: {boston.target.shape}\")"
   ]
  },
  {
   "cell_type": "code",
   "execution_count": 7,
   "metadata": {},
   "outputs": [
    {
     "name": "stdout",
     "output_type": "stream",
     "text": [
      "Boston target: \n",
      " [24.  21.6 34.7 33.4 36.2 28.7 22.9 27.1 16.5 18.9 15.  18.9 21.7 20.4\n",
      " 18.2 19.9 23.1 17.5 20.2 18.2 13.6 19.6 15.2 14.5 15.6 13.9 16.6 14.8\n",
      " 18.4 21.  12.7 14.5 13.2 13.1 13.5 18.9 20.  21.  24.7 30.8 34.9 26.6\n",
      " 25.3 24.7 21.2 19.3 20.  16.6 14.4 19.4 19.7 20.5 25.  23.4 18.9 35.4\n",
      " 24.7 31.6 23.3 19.6 18.7 16.  22.2 25.  33.  23.5 19.4 22.  17.4 20.9\n",
      " 24.2 21.7 22.8 23.4 24.1 21.4 20.  20.8 21.2 20.3 28.  23.9 24.8 22.9\n",
      " 23.9 26.6 22.5 22.2 23.6 28.7 22.6 22.  22.9 25.  20.6 28.4 21.4 38.7\n",
      " 43.8 33.2 27.5 26.5 18.6 19.3 20.1 19.5 19.5 20.4 19.8 19.4 21.7 22.8\n",
      " 18.8 18.7 18.5 18.3 21.2 19.2 20.4 19.3 22.  20.3 20.5 17.3 18.8 21.4\n",
      " 15.7 16.2 18.  14.3 19.2 19.6 23.  18.4 15.6 18.1 17.4 17.1 13.3 17.8\n",
      " 14.  14.4 13.4 15.6 11.8 13.8 15.6 14.6 17.8 15.4 21.5 19.6 15.3 19.4\n",
      " 17.  15.6 13.1 41.3 24.3 23.3 27.  50.  50.  50.  22.7 25.  50.  23.8\n",
      " 23.8 22.3 17.4 19.1 23.1 23.6 22.6 29.4 23.2 24.6 29.9 37.2 39.8 36.2\n",
      " 37.9 32.5 26.4 29.6 50.  32.  29.8 34.9 37.  30.5 36.4 31.1 29.1 50.\n",
      " 33.3 30.3 34.6 34.9 32.9 24.1 42.3 48.5 50.  22.6 24.4 22.5 24.4 20.\n",
      " 21.7 19.3 22.4 28.1 23.7 25.  23.3 28.7 21.5 23.  26.7 21.7 27.5 30.1\n",
      " 44.8 50.  37.6 31.6 46.7 31.5 24.3 31.7 41.7 48.3 29.  24.  25.1 31.5\n",
      " 23.7 23.3 22.  20.1 22.2 23.7 17.6 18.5 24.3 20.5 24.5 26.2 24.4 24.8\n",
      " 29.6 42.8 21.9 20.9 44.  50.  36.  30.1 33.8 43.1 48.8 31.  36.5 22.8\n",
      " 30.7 50.  43.5 20.7 21.1 25.2 24.4 35.2 32.4 32.  33.2 33.1 29.1 35.1\n",
      " 45.4 35.4 46.  50.  32.2 22.  20.1 23.2 22.3 24.8 28.5 37.3 27.9 23.9\n",
      " 21.7 28.6 27.1 20.3 22.5 29.  24.8 22.  26.4 33.1 36.1 28.4 33.4 28.2\n",
      " 22.8 20.3 16.1 22.1 19.4 21.6 23.8 16.2 17.8 19.8 23.1 21.  23.8 23.1\n",
      " 20.4 18.5 25.  24.6 23.  22.2 19.3 22.6 19.8 17.1 19.4 22.2 20.7 21.1\n",
      " 19.5 18.5 20.6 19.  18.7 32.7 16.5 23.9 31.2 17.5 17.2 23.1 24.5 26.6\n",
      " 22.9 24.1 18.6 30.1 18.2 20.6 17.8 21.7 22.7 22.6 25.  19.9 20.8 16.8\n",
      " 21.9 27.5 21.9 23.1 50.  50.  50.  50.  50.  13.8 13.8 15.  13.9 13.3\n",
      " 13.1 10.2 10.4 10.9 11.3 12.3  8.8  7.2 10.5  7.4 10.2 11.5 15.1 23.2\n",
      "  9.7 13.8 12.7 13.1 12.5  8.5  5.   6.3  5.6  7.2 12.1  8.3  8.5  5.\n",
      " 11.9 27.9 17.2 27.5 15.  17.2 17.9 16.3  7.   7.2  7.5 10.4  8.8  8.4\n",
      " 16.7 14.2 20.8 13.4 11.7  8.3 10.2 10.9 11.   9.5 14.5 14.1 16.1 14.3\n",
      " 11.7 13.4  9.6  8.7  8.4 12.8 10.5 17.1 18.4 15.4 10.8 11.8 14.9 12.6\n",
      " 14.1 13.  13.4 15.2 16.1 17.8 14.9 14.1 12.7 13.5 14.9 20.  16.4 17.7\n",
      " 19.5 20.2 21.4 19.9 19.  19.1 19.1 20.1 19.9 19.6 23.2 29.8 13.8 13.3\n",
      " 16.7 12.  14.6 21.4 23.  23.7 25.  21.8 20.6 21.2 19.1 20.6 15.2  7.\n",
      "  8.1 13.6 20.1 21.8 24.5 23.1 19.7 18.3 21.2 17.5 16.8 22.4 20.6 23.9\n",
      " 22.  11.9]\n"
     ]
    }
   ],
   "source": [
    "print(f\"Boston target: \\n {boston.target}\")"
   ]
  },
  {
   "cell_type": "code",
   "execution_count": 8,
   "metadata": {},
   "outputs": [
    {
     "name": "stdout",
     "output_type": "stream",
     "text": [
      "Boston feature names shape:(13,)\n"
     ]
    }
   ],
   "source": [
    "print(f\"Boston feature names shape:{boston.feature_names.shape}\")"
   ]
  },
  {
   "cell_type": "code",
   "execution_count": 9,
   "metadata": {},
   "outputs": [
    {
     "name": "stdout",
     "output_type": "stream",
     "text": [
      "Boston feature names: \n",
      " ['CRIM' 'ZN' 'INDUS' 'CHAS' 'NOX' 'RM' 'AGE' 'DIS' 'RAD' 'TAX' 'PTRATIO'\n",
      " 'B' 'LSTAT']\n"
     ]
    }
   ],
   "source": [
    "print(f\"Boston feature names: \\n {boston.feature_names}\")"
   ]
  },
  {
   "cell_type": "code",
   "execution_count": 10,
   "metadata": {},
   "outputs": [],
   "source": [
    "X_train,X_test,y_train,y_test = train_test_split(boston.data,boston.target,random_state=66)"
   ]
  },
  {
   "cell_type": "code",
   "execution_count": 11,
   "metadata": {
    "scrolled": false
   },
   "outputs": [
    {
     "name": "stdout",
     "output_type": "stream",
     "text": [
      "\t Accuracy\n",
      "1 Komşu | Train: 1.00 | Test: 0.51\n",
      "2 Komşu | Train: 0.84 | Test: 0.57\n",
      "3 Komşu | Train: 0.75 | Test: 0.62\n",
      "4 Komşu | Train: 0.73 | Test: 0.60\n",
      "5 Komşu | Train: 0.69 | Test: 0.60\n",
      "6 Komşu | Train: 0.64 | Test: 0.59\n",
      "7 Komşu | Train: 0.62 | Test: 0.60\n",
      "8 Komşu | Train: 0.59 | Test: 0.57\n",
      "9 Komşu | Train: 0.57 | Test: 0.55\n",
      "10 Komşu | Train: 0.55 | Test: 0.53\n"
     ]
    },
    {
     "data": {
      "image/png": "[encoded data removed]",
      "text/plain": [
       "<Figure size 432x288 with 1 Axes>"
      ]
     },
     "metadata": {
      "needs_background": "light"
     },
     "output_type": "display_data"
    }
   ],
   "source": [
    "train_acc = []\n",
    "test_acc = []\n",
    "n_range = range(1,11)\n",
    "for k in n_range:\n",
    "    reg = KNeighborsRegressor(n_neighbors=k)\n",
    "    reg.fit(X_train,y_train)\n",
    "    train_acc.append(reg.score(X_train,y_train))\n",
    "    test_acc.append(reg.score(X_test,y_test))\n",
    "    \n",
    "plt.plot(n_range,train_acc,label=\"Training Accuracy\")\n",
    "plt.plot(n_range,test_acc,label=\"Test Accuracy\")\n",
    "plt.ylabel(\"Accuracy\")\n",
    "plt.xlabel(\"n_neighbors\")\n",
    "plt.legend(loc='best')\n",
    "\n",
    "print(\"\\t Accuracy\")\n",
    "for i in n_range:\n",
    "    print(f\"{i} Komşu | Train: {train_acc[i-1]:.2f} | Test: {test_acc[i-1]:.2f}\")"
   ]
  },
  {
   "cell_type": "markdown",
   "metadata": {},
   "source": [
    "## Lineer Regresyon"
   ]
  },
  {
   "cell_type": "code",
   "execution_count": 12,
   "metadata": {},
   "outputs": [],
   "source": [
    "from sklearn.linear_model import LinearRegression"
   ]
  },
  {
   "cell_type": "code",
   "execution_count": 13,
   "metadata": {},
   "outputs": [
    {
     "data": {
      "text/plain": [
       "LinearRegression()"
      ]
     },
     "execution_count": 13,
     "metadata": {},
     "output_type": "execute_result"
    }
   ],
   "source": [
    "lr = LinearRegression()\n",
    "lr.fit(X_train,y_train)\n"
   ]
  },
  {
   "cell_type": "code",
   "execution_count": 14,
   "metadata": {},
   "outputs": [
    {
     "name": "stdout",
     "output_type": "stream",
     "text": [
      "lr_coef shape: (13,) lr_coef :\n",
      " [-1.21562371e-01  4.88527086e-02  2.75554234e-02  2.13319694e+00\n",
      " -1.92165700e+01  3.25484414e+00 -5.02296307e-03 -1.66093472e+00\n",
      "  2.97130376e-01 -1.19953846e-02 -9.93870868e-01  8.37850481e-03\n",
      " -5.41527316e-01]\n",
      "lr_intercept: 43.10815624477796\n"
     ]
    }
   ],
   "source": [
    "print(f\"lr_coef shape: {lr.coef_.shape} lr_coef :\\n {lr.coef_}\")\n",
    "print(f\"lr_intercept: {lr.intercept_}\")"
   ]
  },
  {
   "cell_type": "code",
   "execution_count": 15,
   "metadata": {},
   "outputs": [
    {
     "name": "stdout",
     "output_type": "stream",
     "text": [
      "Linear model:   -0.12+ * x1 + 0.05+ * x2 + 0.03+ * x3 + 2.13+ * x4 + -19.22+ * x5 + 3.25+ * x6 + -0.01+ * x7 + -1.66+ * x8 + 0.30+ * x9 + -0.01+ * x10 + -0.99+ * x11 + 0.01+ * x12 + -0.54+ * x13 + 43.11\n"
     ]
    }
   ],
   "source": [
    "linear_model = \" \"\n",
    "for i in range(len(lr.coef_)):\n",
    "    coef = lr.coef_[i]\n",
    "    linear_model += f\"{coef:.2f}+ * x{i+1} + \"\n",
    "linear_model += f\"{lr.intercept_:.2f}\"\n",
    "print(\"Linear model: \",linear_model)"
   ]
  },
  {
   "cell_type": "code",
   "execution_count": 16,
   "metadata": {},
   "outputs": [
    {
     "name": "stdout",
     "output_type": "stream",
     "text": [
      "Train acc: 0.71\n",
      "Test acc: 0.82\n"
     ]
    }
   ],
   "source": [
    "print(f\"Train acc: {lr.score(X_train,y_train):.2f}\")\n",
    "print(f\"Test acc: {lr.score(X_test,y_test):.2f}\")"
   ]
  },
  {
   "cell_type": "markdown",
   "metadata": {},
   "source": [
    "## Ridge Regression"
   ]
  },
  {
   "cell_type": "code",
   "execution_count": 17,
   "metadata": {},
   "outputs": [],
   "source": [
    "from sklearn.linear_model import Ridge"
   ]
  },
  {
   "cell_type": "code",
   "execution_count": 18,
   "metadata": {},
   "outputs": [
    {
     "name": "stdout",
     "output_type": "stream",
     "text": [
      "Train acc: 0.71\n",
      "Test acc: 0.82\n"
     ]
    }
   ],
   "source": [
    "ridge = Ridge() # default alpha = 1\n",
    "rreg = ridge.fit(X_train,y_train)\n",
    "print(f\"Train acc: {rreg.score(X_train,y_train):.2f}\")\n",
    "print(f\"Test acc: {rreg.score(X_test,y_test):.2f}\")"
   ]
  },
  {
   "cell_type": "code",
   "execution_count": 19,
   "metadata": {},
   "outputs": [
    {
     "name": "stdout",
     "output_type": "stream",
     "text": [
      "coef: [-1.16862750e-01  5.08307442e-02 -7.90312826e-03  1.98404195e+00\n",
      " -1.04859850e+01  3.29894863e+00 -1.18394758e-02 -1.53116189e+00\n",
      "  2.81601613e-01 -1.31728955e-02 -8.92807757e-01  8.43987183e-03\n",
      " -5.54453625e-01]\n",
      "intercept: 37.22410190378841\n"
     ]
    }
   ],
   "source": [
    "print(f\"coef: {rreg.coef_}\")\n",
    "print(f\"intercept: {rreg.intercept_}\")"
   ]
  },
  {
   "cell_type": "code",
   "execution_count": 20,
   "metadata": {},
   "outputs": [
    {
     "name": "stdout",
     "output_type": "stream",
     "text": [
      "Ridge linear model:   -0.12+ * x1 + 0.05+ * x2 + -0.01+ * x3 + 1.98+ * x4 + -10.49+ * x5 + 3.30+ * x6 + -0.01+ * x7 + -1.53+ * x8 + 0.28+ * x9 + -0.01+ * x10 + -0.89+ * x11 + 0.01+ * x12 + -0.55+ * x13 + 37.22\n"
     ]
    }
   ],
   "source": [
    "ridge_linear_model = \" \"\n",
    "for i in range(len(rreg.coef_)):\n",
    "    coef = rreg.coef_[i]\n",
    "    ridge_linear_model += f\"{coef:.2f}+ * x{i+1} + \"\n",
    "ridge_linear_model += f\"{rreg.intercept_:.2f}\"\n",
    "print(\"Ridge linear model: \",ridge_linear_model)"
   ]
  },
  {
   "cell_type": "code",
   "execution_count": 21,
   "metadata": {},
   "outputs": [
    {
     "name": "stdout",
     "output_type": "stream",
     "text": [
      "Train acc: 0.70\n",
      "Test acc: 0.81\n",
      "coef: [-0.11197583  0.05347033 -0.04113279  1.44917712 -2.05002925  3.12520879\n",
      " -0.01626734 -1.3975272   0.27490065 -0.01469086 -0.80637313  0.00838066\n",
      " -0.58324751]\n",
      "intercept: 33.25977066847115\n",
      "Ridge linear model:   -0.11+ * x1 + 0.05+ * x2 + -0.04+ * x3 + 1.45+ * x4 + -2.05+ * x5 + 3.13+ * x6 + -0.02+ * x7 + -1.40+ * x8 + 0.27+ * x9 + -0.01+ * x10 + -0.81+ * x11 + 0.01+ * x12 + -0.58+ * x13 + 33.26\n"
     ]
    }
   ],
   "source": [
    "ridge10 = Ridge(alpha=10) # default alpha = 1\n",
    "rreg10 = ridge10.fit(X_train,y_train)\n",
    "print(f\"Train acc: {rreg10.score(X_train,y_train):.2f}\")\n",
    "print(f\"Test acc: {rreg10.score(X_test,y_test):.2f}\")\n",
    "print(f\"coef: {rreg10.coef_}\")\n",
    "print(f\"intercept: {rreg10.intercept_}\")\n",
    "ridge_linear_model = \" \"\n",
    "for i in range(len(rreg10.coef_)):\n",
    "    coef = rreg10.coef_[i]\n",
    "    ridge_linear_model += f\"{coef:.2f}+ * x{i+1} + \"\n",
    "ridge_linear_model += f\"{rreg10.intercept_:.2f}\"\n",
    "print(\"Ridge linear model: \",ridge_linear_model)"
   ]
  },
  {
   "cell_type": "code",
   "execution_count": 22,
   "metadata": {},
   "outputs": [
    {
     "name": "stdout",
     "output_type": "stream",
     "text": [
      "Train acc: 0.71\n",
      "Test acc: 0.82\n",
      "coef: [-1.20767914e-01  4.91795482e-02  2.15457844e-02  2.11264767e+00\n",
      " -1.77404572e+01  3.26430601e+00 -6.19610252e-03 -1.63904575e+00\n",
      "  2.94417185e-01 -1.21904223e-02 -9.76660506e-01  8.38971364e-03\n",
      " -5.43557811e-01]\n",
      "intercept: 42.096875482761604\n",
      "Ridge linear model:   -0.12+ * x1 + 0.05+ * x2 + 0.02+ * x3 + 2.11+ * x4 + -17.74+ * x5 + 3.26+ * x6 + -0.01+ * x7 + -1.64+ * x8 + 0.29+ * x9 + -0.01+ * x10 + -0.98+ * x11 + 0.01+ * x12 + -0.54+ * x13 + 42.10\n"
     ]
    }
   ],
   "source": [
    "ridge01 = Ridge(alpha=0.1) # default alpha = 1\n",
    "rreg01 = ridge01.fit(X_train,y_train)\n",
    "print(f\"Train acc: {rreg01.score(X_train,y_train):.2f}\")\n",
    "print(f\"Test acc: {rreg01.score(X_test,y_test):.2f}\")\n",
    "print(f\"coef: {rreg01.coef_}\")\n",
    "print(f\"intercept: {rreg01.intercept_}\")\n",
    "ridge_linear_model = \" \"\n",
    "for i in range(len(rreg01.coef_)):\n",
    "    coef = rreg01.coef_[i]\n",
    "    ridge_linear_model += f\"{coef:.2f}+ * x{i+1} + \"\n",
    "ridge_linear_model += f\"{rreg01.intercept_:.2f}\"\n",
    "print(\"Ridge linear model: \",ridge_linear_model)"
   ]
  },
  {
   "cell_type": "code",
   "execution_count": 23,
   "metadata": {},
   "outputs": [],
   "source": [
    "import matplotlib.pyplot as plt"
   ]
  },
  {
   "cell_type": "code",
   "execution_count": 24,
   "metadata": {},
   "outputs": [
    {
     "data": {
      "text/plain": [
       "<matplotlib.legend.Legend at 0x14afd57fe20>"
      ]
     },
     "execution_count": 24,
     "metadata": {},
     "output_type": "execute_result"
    },
    {
     "data": {
      "image/png": "[encoded data removed]",
      "text/plain": [
       "<Figure size 432x288 with 1 Axes>"
      ]
     },
     "metadata": {
      "needs_background": "light"
     },
     "output_type": "display_data"
    }
   ],
   "source": [
    "plt.plot(rreg.coef_,'s',label='Ridge alpha=1')\n",
    "plt.plot(rreg10.coef_,'^',label='Ridge alpha=10')\n",
    "plt.plot(rreg01.coef_,'v',label='Ridge alpha=0.1')\n",
    "\n",
    "plt.plot(lr.coef_,'o',label='Lineer Regresyon')\n",
    "\n",
    "plt.xlabel('Coefficent Index')\n",
    "plt.ylabel('Coeffficent Magnitude')\n",
    "plt.hlines(0,0,len(lr.coef_))\n",
    "plt.ylim(-25,25)\n",
    "plt.legend(loc='best')"
   ]
  },
  {
   "cell_type": "code",
   "execution_count": 28,
   "metadata": {
    "scrolled": false
   },
   "outputs": [
    {
     "name": "stdout",
     "output_type": "stream",
     "text": [
      " Lineer Regresyon\n",
      "Train Acc: 0.94\n",
      "Test Acc: 0.85\n",
      "\n",
      " Ridge Regresyon Alpha=1\n",
      "Train Acc: 0.88\n",
      "Test Acc: 0.75\n",
      "Coef: [-1.47844679e+00 -1.03715242e+00 -7.05013595e-01 -1.55916404e-01\n",
      "  4.07495371e-01  6.89146165e+00  8.59949051e-01 -4.99861180e+00\n",
      "  4.43213071e+00 -1.17264942e+00 -1.64961501e+00  1.24014851e+00\n",
      " -3.26710755e+00 -1.99675971e-02  6.16258815e-03 -8.97835597e-01\n",
      "  1.11759404e+00 -1.05988106e+00 -1.89978371e+00 -1.43535528e+00\n",
      " -2.31495864e-01 -1.78325197e+00 -1.51338193e+00 -1.35397763e+00\n",
      " -2.01328950e+00 -1.08171131e-01  2.23615268e+00 -1.58232586e+00\n",
      " -6.00773879e-02 -7.12671014e-03  4.02466939e+00 -1.21134061e+00\n",
      "  9.82977734e-03  4.91775697e-01  1.19231015e+00  4.92392565e-01\n",
      " -7.23648587e-01 -1.93073020e+00  1.88016655e+00  2.52197065e+00\n",
      "  1.17019395e+00 -3.20065025e+00  1.75802591e+00 -2.72201238e+00\n",
      "  1.19409985e+00  2.85427976e+00 -1.14581572e+00  3.29848123e-01\n",
      " -2.80315799e+00 -1.55916404e-01 -5.40932426e+00  7.44780976e-01\n",
      "  9.37536758e-01 -2.19609813e+00  4.39513874e+00  4.36668918e+00\n",
      "  3.17328474e+00 -2.02937919e-01 -3.30673883e+00 -1.84825864e+00\n",
      " -1.81297468e+00 -2.45217360e+00 -1.69381243e+00 -2.21883938e+00\n",
      " -1.53089638e+00 -2.40752340e+00  9.81168877e-01 -2.09583630e+00\n",
      "  1.98321949e+01 -1.98445822e+00  1.01829707e+00 -5.92165636e+00\n",
      " -7.64797670e+00 -6.65940146e+00  9.54083902e+00 -9.12175281e+00\n",
      "  1.16553500e+00 -2.53616511e+00  2.38789389e+00 -3.54302749e-01\n",
      " -1.98217381e+00 -6.45477615e-01 -3.92868568e+00  6.70555521e-01\n",
      " -8.05376250e-01 -2.43922213e+00 -4.74690537e-01 -4.08777548e+00\n",
      "  3.59312290e-01  3.97687259e-01  1.03267639e+00  2.07455472e+00\n",
      "  2.68005604e+00 -7.63293306e+00  5.22560029e-01  1.95844376e+00\n",
      " -1.18958252e+00 -7.05849324e+00  1.78949348e+00 -2.14098432e+00\n",
      " -7.13710358e-01  4.69690766e-01 -6.87951424e+00  1.12288087e+01]\n",
      "\n",
      " Ridge Regresyon Alpha=10\n",
      "Train Acc: 0.78\n",
      "Test Acc: 0.70\n",
      "Coef: [-8.44880796e-01  8.01455147e-01 -6.32446016e-01  2.43965261e-01\n",
      " -5.83809556e-01  4.70215819e+00 -7.09206411e-02 -2.60927675e+00\n",
      "  1.22729934e+00 -1.15791654e+00 -2.15115549e+00  8.65218447e-01\n",
      " -4.14222002e+00 -6.79741666e-01  3.74903309e-03 -5.46193127e-01\n",
      "  2.54849870e-01 -6.14619041e-01 -7.92249139e-01 -7.83667074e-01\n",
      " -5.82142415e-02 -8.73457470e-01 -7.91513020e-01 -7.03641511e-01\n",
      " -9.79917507e-01 -3.46129572e-01  1.23852021e+00 -2.31627298e-01\n",
      "  5.09548531e-02  2.72295841e-01  2.06753431e+00  7.59712017e-02\n",
      " -2.35268354e-01  2.55380918e-01 -1.43307322e-01 -2.89941045e-01\n",
      "  8.27569021e-01 -6.22275091e-01  5.91393198e-01  6.30015630e-01\n",
      " -6.07704583e-01 -5.72049648e-01  5.00677066e-02 -9.99006190e-01\n",
      "  3.25146882e-01  4.31012662e-01 -1.62117070e-01 -5.55699951e-02\n",
      " -1.35955917e+00  2.43965261e-01 -6.63420920e-01  8.24223739e-01\n",
      "  4.51119887e-01 -4.00158010e-01  2.40449555e+00  1.97541430e+00\n",
      "  1.23566097e+00  2.43303429e-01 -1.25939703e+00 -1.43284763e+00\n",
      "  9.38370890e-02 -8.60147492e-01 -5.97823978e-01 -5.62555708e-01\n",
      " -9.07083862e-01 -1.02083290e+00  2.36506186e-01 -1.80647216e+00\n",
      "  8.12764282e+00  1.65662484e+00  3.80587950e-01 -5.97335717e-01\n",
      " -1.62847375e+00 -8.97325444e-01  5.80031278e+00 -3.11182522e+00\n",
      "  4.43758591e-01 -1.84951838e+00  6.81437349e-01 -4.51496455e-01\n",
      " -1.48936123e+00  3.68105926e-01 -3.05306239e+00 -1.31684604e+00\n",
      " -3.27593691e-01 -1.21979473e+00 -1.73968929e+00 -2.34535275e+00\n",
      " -1.35628782e+00  7.34499562e-01  4.74953746e-01  3.82160872e-01\n",
      "  1.67247592e+00 -2.25630465e+00  1.35455667e-01 -3.79053479e-01\n",
      " -5.34294230e-01 -2.35895835e+00 -1.29228497e+00 -1.67836643e+00\n",
      " -2.18999754e+00  6.40991444e-01 -4.32793935e+00  2.39230743e-01]\n",
      "\n",
      " Ridge Regresyon Alpha=0.1\n",
      "Train Acc: 0.92\n",
      "Test Acc: 0.78\n",
      "Coef: [-3.61947533e+00 -4.86419589e+00 -4.94489034e+00  2.19811466e+00\n",
      "  2.35039951e+00  1.28596666e+01  7.83848697e+00 -1.04913540e+01\n",
      "  9.46359647e+00 -2.85117343e+00 -7.82084357e-01  6.80711796e+00\n",
      "  1.04960281e+00  6.67374428e+00 -5.32361984e-03 -1.55538456e+00\n",
      "  6.73617955e+00 -7.49484154e-01  1.47743790e-01 -4.09945694e+00\n",
      " -1.03659919e+00 -4.22844116e+00 -3.25418813e+00 -3.34789274e+00\n",
      "  9.93256892e-02  1.26018841e+00  2.84564328e+00 -2.76149517e+00\n",
      "  2.14601637e+00 -1.87439811e+00  7.27264219e+00 -2.35846175e+00\n",
      "  3.68065091e-02  9.88424893e-02  9.62254340e+00  2.52072678e+00\n",
      " -2.26287577e+00 -5.79033414e+00  3.46322375e+00  6.94823693e+00\n",
      "  1.05615964e+01  2.19308443e+00  3.48371042e+00 -2.31471992e+00\n",
      "  2.92465730e+00  7.34535113e+00 -5.94423059e+00  8.00494956e-01\n",
      " -1.05255866e+01  2.19811466e+00 -1.35528067e+01 -2.95475940e+00\n",
      "  3.66919368e-01 -7.78871119e+00  3.19763744e+00  6.85922867e+00\n",
      "  3.90088971e+00 -2.01434766e+00 -2.64009571e+00 -3.27929981e+00\n",
      "  9.11753356e-01 -9.29922417e+00 -3.20963921e+00 -4.79209572e+00\n",
      " -9.50015548e-01 -4.51413868e+00  1.33274267e+00  2.51196509e+00\n",
      "  2.94426760e+01 -1.11284992e+01 -1.01565936e+00 -1.04498540e+01\n",
      " -1.24635129e+01 -1.38132846e+01  7.77147868e+00 -1.21360933e+01\n",
      "  1.87549464e-01  1.26388168e+00  8.73506713e+00 -3.12639045e+00\n",
      " -4.64105357e-01 -4.61047109e+00 -8.01163025e+00  9.20811792e+00\n",
      " -3.38966045e+00 -2.31531663e+00 -1.86403570e+00 -6.33732593e+00\n",
      "  7.67072712e+00 -7.45683241e+00  3.46194050e+00  4.75487823e+00\n",
      "  1.67321766e+00 -1.10634670e+01 -1.22101260e+00  1.20074424e+01\n",
      " -2.45069655e+00 -1.41949666e+01  4.03286497e+00 -2.58993364e+00\n",
      " -2.76800862e-01  2.25442980e+00 -1.00834416e+01  2.36204137e+01]\n"
     ]
    },
    {
     "data": {
      "text/plain": [
       "<matplotlib.legend.Legend at 0x14aff956cd0>"
      ]
     },
     "execution_count": 28,
     "metadata": {},
     "output_type": "execute_result"
    },
    {
     "data": {
      "image/png": "[encoded data removed]",
      "text/plain": [
       "<Figure size 432x288 with 1 Axes>"
      ]
     },
     "metadata": {
      "needs_background": "light"
     },
     "output_type": "display_data"
    }
   ],
   "source": [
    "X,y = load_extended_boston()\n",
    "X_train,X_test,y_train,y_test = train_test_split(X,y,random_state=33)\n",
    "lr.fit(X_train,y_train)\n",
    "print(\" Lineer Regresyon\")\n",
    "print(f\"Train Acc: {lr.score(X_train,y_train):.2f}\")\n",
    "print(f\"Test Acc: {lr.score(X_test,y_test):.2f}\")\n",
    "\n",
    "rreg.fit(X_train,y_train)\n",
    "print(\"\\n Ridge Regresyon Alpha=1\")\n",
    "print(f\"Train Acc: {rreg.score(X_train,y_train):.2f}\")\n",
    "print(f\"Test Acc: {rreg.score(X_test,y_test):.2f}\")\n",
    "print(f\"Coef: {rreg.coef_}\")\n",
    "\n",
    "rreg10.fit(X_train,y_train)\n",
    "print(\"\\n Ridge Regresyon Alpha=10\")\n",
    "print(f\"Train Acc: {rreg10.score(X_train,y_train):.2f}\")\n",
    "print(f\"Test Acc: {rreg10.score(X_test,y_test):.2f}\")\n",
    "print(f\"Coef: {rreg10.coef_}\")\n",
    "rreg01.fit(X_train,y_train)\n",
    "print(\"\\n Ridge Regresyon Alpha=0.1\")\n",
    "print(f\"Train Acc: {rreg01.score(X_train,y_train):.2f}\")\n",
    "print(f\"Test Acc: {rreg01.score(X_test,y_test):.2f}\")\n",
    "print(f\"Coef: {rreg01.coef_}\")\n",
    "\n",
    "plt.plot(rreg.coef_,'s',label='Ridge alpha=1')\n",
    "plt.plot(rreg10.coef_,'^',label='Ridge alpha=10')\n",
    "plt.plot(rreg01.coef_,'v',label='Ridge alpha=0.1')\n",
    "\n",
    "plt.plot(lr.coef_,'o',label='Lineer Regresyon')\n",
    "\n",
    "plt.xlabel('Coefficent Index')\n",
    "plt.ylabel('Coeffficent Magnitude')\n",
    "plt.hlines(0,0,len(lr.coef_))\n",
    "plt.ylim(-25,25)\n",
    "plt.legend(loc='best')"
   ]
  },
  {
   "cell_type": "markdown",
   "metadata": {},
   "source": [
    "## Lasso Regresyon"
   ]
  },
  {
   "cell_type": "code",
   "execution_count": 29,
   "metadata": {},
   "outputs": [],
   "source": [
    "from sklearn.linear_model import Lasso"
   ]
  },
  {
   "cell_type": "code",
   "execution_count": 30,
   "metadata": {},
   "outputs": [
    {
     "data": {
      "text/plain": [
       "Lasso()"
      ]
     },
     "execution_count": 30,
     "metadata": {},
     "output_type": "execute_result"
    }
   ],
   "source": [
    "lasso = Lasso()\n",
    "lasso.fit(X_train,y_train)"
   ]
  },
  {
   "cell_type": "code",
   "execution_count": 35,
   "metadata": {},
   "outputs": [
    {
     "name": "stdout",
     "output_type": "stream",
     "text": [
      "Train Acc: 0.23\n",
      "Test Acc: 0.24\n",
      "Coefs number(not zero): 2\n",
      "Coefs: [-0.          0.         -0.          0.         -0.          0.\n",
      " -0.          0.         -0.         -0.         -0.          0.\n",
      " -6.79383616 -0.          0.         -0.          0.         -0.\n",
      " -0.         -0.         -0.         -0.         -0.         -0.\n",
      " -0.         -0.          0.          0.          0.          0.\n",
      "  0.          0.          0.          0.          0.          0.\n",
      "  0.          0.         -0.          0.         -0.         -0.\n",
      " -0.         -0.         -0.         -0.         -0.         -0.\n",
      " -0.          0.          0.          0.          0.          0.\n",
      "  0.          0.          0.          0.         -0.         -0.\n",
      " -0.         -0.         -0.         -0.         -0.         -0.\n",
      " -0.         -0.          0.          0.          0.         -0.\n",
      " -0.         -0.          0.         -0.         -0.         -0.\n",
      " -0.         -0.         -1.85410997 -0.         -0.          0.\n",
      " -0.         -0.         -0.          0.         -0.         -0.\n",
      " -0.         -0.         -0.         -0.         -0.         -0.\n",
      " -0.         -0.         -0.         -0.         -0.          0.\n",
      " -0.         -0.        ]\n"
     ]
    }
   ],
   "source": [
    "print(f\"Train Acc: {lasso.score(X_train,y_train):.2f}\")\n",
    "print(f\"Test Acc: {lasso.score(X_test,y_test):.2f}\")\n",
    "print(f\"Coefs number(not zero): {np.sum(lasso.coef_ != 0)}\")\n",
    "print(f\"Coefs: {lasso.coef_}\")"
   ]
  },
  {
   "cell_type": "code",
   "execution_count": 37,
   "metadata": {},
   "outputs": [
    {
     "name": "stdout",
     "output_type": "stream",
     "text": [
      "Train Acc: 0.00\n",
      "Test Acc: -0.03\n",
      "Coefs number(not zero): 0\n",
      "Coefs: [-0.  0. -0.  0. -0.  0. -0.  0. -0. -0. -0.  0. -0. -0.  0. -0.  0. -0.\n",
      " -0. -0. -0. -0. -0. -0. -0. -0.  0.  0.  0.  0.  0.  0.  0.  0.  0.  0.\n",
      "  0.  0. -0.  0. -0. -0. -0. -0. -0. -0. -0. -0. -0.  0.  0.  0.  0.  0.\n",
      "  0.  0.  0.  0. -0. -0. -0. -0. -0. -0. -0. -0. -0. -0.  0.  0.  0. -0.\n",
      " -0. -0.  0. -0. -0. -0. -0. -0. -0. -0. -0.  0. -0. -0. -0.  0. -0. -0.\n",
      " -0. -0. -0. -0. -0. -0. -0. -0. -0. -0. -0.  0. -0. -0.]\n"
     ]
    }
   ],
   "source": [
    "lasso10 = Lasso(alpha=10,max_iter=100000)\n",
    "lasso10.fit(X_train,y_train)\n",
    "print(f\"Train Acc: {lasso10.score(X_train,y_train):.2f}\")\n",
    "print(f\"Test Acc: {lasso10.score(X_test,y_test):.2f}\")\n",
    "print(f\"Coefs number(not zero): {np.sum(lasso10.coef_ != 0)}\")\n",
    "print(f\"Coefs: {lasso10.coef_}\")\n",
    "\n"
   ]
  },
  {
   "cell_type": "code",
   "execution_count": 38,
   "metadata": {},
   "outputs": [
    {
     "name": "stdout",
     "output_type": "stream",
     "text": [
      "Train Acc: 0.77\n",
      "Test Acc: 0.64\n",
      "Coefs number(not zero): 10\n",
      "Coefs: [ -0.           0.          -0.           0.70849846  -0.\n",
      "   0.          -0.          -0.          -0.          -0.\n",
      "  -5.84808536   0.         -15.66249575  -0.           0.\n",
      "  -0.           0.          -0.          -0.          -0.\n",
      "  -0.          -0.          -0.          -0.          -0.\n",
      "  -0.           0.          -0.           0.           0.\n",
      "   0.           0.          -0.           0.          -0.\n",
      "  -0.           0.          -0.          -0.           0.\n",
      "  -0.          -0.          -0.          -0.          -0.\n",
      "  -0.          -0.           0.          -0.           0.1744567\n",
      "   0.           0.           0.           0.           4.83903953\n",
      "   0.           0.           0.          -0.          -0.\n",
      "  -0.          -0.          -0.          -0.          -0.\n",
      "  -0.          -0.          -0.          25.36682171  -0.\n",
      "  -0.          -0.          -3.06690119  -0.           1.33851955\n",
      "  -0.          -0.          -0.          -0.          -0.\n",
      "  -0.           0.          -0.11999651  -0.          -0.\n",
      "  -0.          -0.          -0.          -0.          -0.\n",
      "  -0.          -0.           0.          -0.          -0.\n",
      "  -0.          -0.          -1.60376327  -0.          -0.\n",
      "  -0.           0.          -0.           0.        ]\n"
     ]
    }
   ],
   "source": [
    "lasso01 = Lasso(alpha=0.1,max_iter=100000)\n",
    "lasso01.fit(X_train,y_train)\n",
    "print(f\"Train Acc: {lasso01.score(X_train,y_train):.2f}\")\n",
    "print(f\"Test Acc: {lasso01.score(X_test,y_test):.2f}\")\n",
    "print(f\"Coefs number(not zero): {np.sum(lasso01.coef_ != 0)}\")\n",
    "print(f\"Coefs: {lasso01.coef_}\")\n",
    "\n"
   ]
  },
  {
   "cell_type": "code",
   "execution_count": 39,
   "metadata": {},
   "outputs": [
    {
     "name": "stdout",
     "output_type": "stream",
     "text": [
      "Train Acc: 0.93\n",
      "Test Acc: 0.80\n",
      "Coefs number(not zero): 64\n",
      "Coefs: [-0.00000000e+00 -2.33019627e+00 -1.06162515e+01  2.03099314e+00\n",
      "  0.00000000e+00  3.05762036e+01  2.15905095e+01 -2.36893352e+01\n",
      "  2.59769013e+00 -7.29436695e-02 -0.00000000e+00  1.47769258e+01\n",
      "  0.00000000e+00  9.77609500e+00 -0.00000000e+00 -0.00000000e+00\n",
      "  8.23003710e+01 -0.00000000e+00  0.00000000e+00 -1.06531649e+01\n",
      " -0.00000000e+00 -1.03388298e+01 -0.00000000e+00 -0.00000000e+00\n",
      "  0.00000000e+00  0.00000000e+00  2.91744810e+00 -0.00000000e+00\n",
      "  0.00000000e+00 -0.00000000e+00  7.13755763e-01 -2.24555922e+00\n",
      " -0.00000000e+00 -0.00000000e+00  1.17376677e+01 -0.00000000e+00\n",
      " -0.00000000e+00 -1.23384974e+01  0.00000000e+00  6.98764453e+00\n",
      "  3.07633612e+01  1.30802392e+01 -0.00000000e+00  0.00000000e+00\n",
      "  1.38215967e-01  7.88381141e+00 -5.89981079e+00  0.00000000e+00\n",
      " -9.03836452e+00  1.83732440e+00 -1.61682445e+01 -2.64130237e+00\n",
      " -0.00000000e+00 -8.74440386e+00  0.00000000e+00  5.63182874e+00\n",
      "  3.16526483e+00 -0.00000000e+00 -1.20689934e+00 -8.36126002e+00\n",
      "  3.73575713e+00 -1.58838603e+01  0.00000000e+00 -6.59098297e+00\n",
      " -0.00000000e+00 -8.27600410e+00  3.53469032e+00  6.58859816e+00\n",
      "  3.03325778e+01 -2.56300098e+01 -0.00000000e+00 -0.00000000e+00\n",
      " -2.98649544e+01 -1.96814614e+01  0.00000000e+00 -7.78433370e+00\n",
      "  0.00000000e+00 -0.00000000e+00  1.66204879e+01 -6.45486396e+00\n",
      " -8.94987333e-01 -7.48953771e+00 -1.40464185e+01  1.42336593e+01\n",
      " -1.31027529e+00 -0.00000000e+00 -2.28393457e+00 -0.00000000e+00\n",
      "  1.62076805e+01 -2.18863187e+01  1.83262547e+01  2.66347405e+00\n",
      " -0.00000000e+00 -3.70283853e+00 -0.00000000e+00  2.11952537e+01\n",
      " -1.18788925e+00 -2.40319215e+01  4.67076420e+00 -1.10085261e+00\n",
      " -0.00000000e+00  0.00000000e+00 -1.22697354e+01  2.83166956e+01]\n"
     ]
    }
   ],
   "source": [
    "lasso001 = Lasso(alpha=0.001,max_iter=100000)\n",
    "lasso001.fit(X_train,y_train)\n",
    "print(f\"Train Acc: {lasso001.score(X_train,y_train):.2f}\")\n",
    "print(f\"Test Acc: {lasso001.score(X_test,y_test):.2f}\")\n",
    "print(f\"Coefs number(not zero): {np.sum(lasso001.coef_ != 0)}\")\n",
    "print(f\"Coefs: {lasso001.coef_}\")\n",
    "\n"
   ]
  },
  {
   "cell_type": "code",
   "execution_count": 43,
   "metadata": {},
   "outputs": [
    {
     "name": "stdout",
     "output_type": "stream",
     "text": [
      " Lasso Alpha=1\n",
      "Train Acc: 0.23\n",
      "Test Acc: 0.24\n",
      "\n",
      " Lasso Alpha=0.1\n",
      "Train Acc: 0.77\n",
      "Test Acc: 0.64\n",
      "\n",
      " Lasso Alpha=0.001\n",
      "Train Acc: 0.93\n",
      "Test Acc: 0.80\n",
      "\n",
      " Ridge Alpha =0.1\n",
      "Train Acc: 0.920140315201911\n",
      "Test Acc: 0.7770850459913827\n"
     ]
    },
    {
     "data": {
      "text/plain": [
       "<matplotlib.legend.Legend at 0x14affc828e0>"
      ]
     },
     "execution_count": 43,
     "metadata": {},
     "output_type": "execute_result"
    },
    {
     "data": {
      "image/png": "[encoded data removed]",
      "text/plain": [
       "<Figure size 432x288 with 1 Axes>"
      ]
     },
     "metadata": {
      "needs_background": "light"
     },
     "output_type": "display_data"
    }
   ],
   "source": [
    "print(\" Lasso Alpha=1\")\n",
    "print(f\"Train Acc: {lasso.score(X_train,y_train):.2f}\")\n",
    "print(f\"Test Acc: {lasso.score(X_test,y_test):.2f}\")\n",
    "\n",
    "'''\n",
    "print(\"\\n Lasso Alpha=10\")\n",
    "print(f\"Train Acc: {lasso10.score(X_train,y_train):.2f}\")\n",
    "print(f\"Test Acc: {lasso10.score(X_test,y_test):.2f}\")\n",
    "'''\n",
    "print(\"\\n Lasso Alpha=0.1\")\n",
    "print(f\"Train Acc: {lasso01.score(X_train,y_train):.2f}\")\n",
    "print(f\"Test Acc: {lasso01.score(X_test,y_test):.2f}\")\n",
    "\n",
    "print(\"\\n Lasso Alpha=0.001\")\n",
    "print(f\"Train Acc: {lasso001.score(X_train,y_train):.2f}\")\n",
    "print(f\"Test Acc: {lasso001.score(X_test,y_test):.2f}\")\n",
    "\n",
    "print(\"\\n Ridge Alpha =0.1\")\n",
    "print(f\"Train Acc: {rreg01.score(X_train,y_train)}\")\n",
    "print(f\"Test Acc: {rreg01.score(X_test,y_test)}\")\n",
    "\n",
    "plt.plot(lasso.coef_,'s',label='Lasso alpha=1')\n",
    "#plt.plot(lasso10.coef_,'^',label='Lasso alpha=10')\n",
    "plt.plot(lasso01.coef_,'^',label='Lasso alpha=0.1')\n",
    "plt.plot(lasso001.coef_,'v',label='Lasso alpha=0.001')\n",
    "plt.plot(rreg01.coef_,'*',label='Ridge alpha=0.1')\n",
    "\n",
    "\n",
    "plt.xlabel('Coefficent Index')\n",
    "plt.ylabel('Coeffficent Magnitude')\n",
    "plt.hlines(0,0,len(lr.coef_))\n",
    "plt.ylim(-25,25)\n",
    "plt.legend(loc='best')"
   ]
  },
  {
   "cell_type": "code",
   "execution_count": null,
   "metadata": {},
   "outputs": [],
   "source": [
    "# Linear models for classification"
   ]
  }
 ],
 "metadata": {
  "kernelspec": {
   "display_name": "Python 3",
   "language": "python",
   "name": "python3"
  },
  "language_info": {
   "codemirror_mode": {
    "name": "ipython",
    "version": 3
   },
   "file_extension": ".py",
   "mimetype": "text/x-python",
   "name": "python",
   "nbconvert_exporter": "python",
   "pygments_lexer": "ipython3",
   "version": "3.8.5"
  }
 },
 "nbformat": 4,
 "nbformat_minor": 4
}
